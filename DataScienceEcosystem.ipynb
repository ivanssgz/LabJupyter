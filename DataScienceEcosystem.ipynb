{
 "cells": [
  {
   "cell_type": "markdown",
   "id": "e482ee22-66b6-46ff-9a90-bd2865973482",
   "metadata": {},
   "source": [
    "# Data Science Tools and Ecosystem"
   ]
  },
  {
   "cell_type": "markdown",
   "id": "dd0d7d76-f0a0-4137-ad68-470d06725068",
   "metadata": {},
   "source": [
    "In this notebook, Data Science Tools and Ecosystem are summarized."
   ]
  },
  {
   "cell_type": "markdown",
   "id": "c8442c0f-410a-42ec-95e8-2039a003921b",
   "metadata": {},
   "source": [
    "Objectives:\n",
    "* List popular lenguages for Data Science\n",
    "* Libraries used by Data Science\n",
    "* Examples"
   ]
  },
  {
   "cell_type": "markdown",
   "id": "00c96754-c5e7-421a-a5ec-ef0f6dde22e7",
   "metadata": {},
   "source": [
    "Some of the popular languages that Data Scientists use are:\n",
    "1. Python\n",
    "2. R\n",
    "3. Julia"
   ]
  },
  {
   "cell_type": "markdown",
   "id": "fb6163ca-4e2c-4481-a82c-8f928605fc97",
   "metadata": {},
   "source": [
    "Some of the commonly used libraries used by Data Scientists include:\n",
    "1. Pandas\n",
    "2. Ggplot\n",
    "3. Numpy"
   ]
  },
  {
   "cell_type": "markdown",
   "id": "a0ec0c9f-c5b6-4037-b6ac-fc08bb5c26ad",
   "metadata": {},
   "source": [
    "|**Data Science Tools**|\n",
    "|----------------------|\n",
    "|Rstudio|\n",
    "|Apache Zeppelin|\n",
    "|Jupyter Notebook|"
   ]
  },
  {
   "cell_type": "markdown",
   "id": "a17cb588-81b9-4500-970e-8be254d74489",
   "metadata": {},
   "source": [
    "### Below are a few examples of evaluating arithmetic expressions in Python."
   ]
  },
  {
   "cell_type": "code",
   "execution_count": 2,
   "id": "94bc6c8c-6b29-4562-bda3-9ee9a4dd3ca1",
   "metadata": {},
   "outputs": [
    {
     "data": {
      "text/plain": [
       "17"
      ]
     },
     "execution_count": 2,
     "metadata": {},
     "output_type": "execute_result"
    }
   ],
   "source": [
    "#This a simple arithmetic expression to mutiply then add integers\n",
    "(3*4)+5"
   ]
  },
  {
   "cell_type": "code",
   "execution_count": 6,
   "id": "d2a09b77-c4b4-461d-8056-fac77897a414",
   "metadata": {},
   "outputs": [
    {
     "name": "stdout",
     "output_type": "stream",
     "text": [
      "3.3333333333333335\n"
     ]
    }
   ],
   "source": [
    "#This will convert 200 minutes to hours by diving by 60\n",
    "minutos = 200\n",
    "duracion_hora = 60\n",
    "\n",
    "resultadohora = minutos/duracion_hora\n",
    "\n",
    "print (resultadohora)"
   ]
  },
  {
   "cell_type": "markdown",
   "id": "e3ee7a89-806c-466b-8a65-8434346f4b8d",
   "metadata": {},
   "source": [
    "## Author: Ivan Gonzalez"
   ]
  },
  {
   "cell_type": "code",
   "execution_count": null,
   "id": "afd03e4f-08d4-456e-8289-c68a4a4763e2",
   "metadata": {},
   "outputs": [],
   "source": []
  }
 ],
 "metadata": {
  "kernelspec": {
   "display_name": "Python [conda env:base] *",
   "language": "python",
   "name": "conda-base-py"
  },
  "language_info": {
   "codemirror_mode": {
    "name": "ipython",
    "version": 3
   },
   "file_extension": ".py",
   "mimetype": "text/x-python",
   "name": "python",
   "nbconvert_exporter": "python",
   "pygments_lexer": "ipython3",
   "version": "3.12.7"
  }
 },
 "nbformat": 4,
 "nbformat_minor": 5
}
